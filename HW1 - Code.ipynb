{
  "cells": [
    {
      "cell_type": "markdown",
      "id": "3b2fba38",
      "metadata": {
        "id": "3b2fba38"
      },
      "source": [
        "# Assignment 1 (Coding Problems)"
      ]
    },
    {
      "cell_type": "markdown",
      "id": "0c4b5223",
      "metadata": {
        "id": "0c4b5223"
      },
      "source": [
        "In this assignment, you will implement the operators we have discussed in class. This will help you get a deeper understanding of the computation in each operator.\n",
        "\n",
        "## Overview of the problems\n",
        "- Problem 1 (20 pts): Matrix multiplication\n",
        "- Problem 2 (50 pts): CONV2D without padding and stride\n",
        "- Problem 3 (30 pts): CONV2D with stride but without padding"
      ]
    },
    {
      "cell_type": "code",
      "execution_count": 1,
      "id": "29d6d5a1",
      "metadata": {
        "id": "29d6d5a1"
      },
      "outputs": [],
      "source": [
        "# Please do not modify this cell\n",
        "import torch\n",
        "from typing import Tuple\n",
        "import random\n",
        "\n",
        "filter_resolution = [1, 3, 5, 7]\n",
        "channel_counts = [1, 3, 16]\n",
        "stride_amounts = [2, 3, 4]\n",
        "\n",
        "\n",
        "\n",
        "def test_res_printer(\n",
        "    test_res: Tuple[int],\n",
        "    test_name: str = \"Test\"\n",
        ") -> None:\n",
        "    print(\"<Test {} Results>\".format(test_name))\n",
        "    print(\"- Correct: {}\".format(test_res[0]))\n",
        "    print(\"- Incorrect: {}\".format(test_res[1]))\n",
        "    print(\"-> Passed {}% of tests\".format((test_res[0]/test_res[2])*100))"
      ]
    },
    {
      "cell_type": "markdown",
      "id": "2f6b2b90",
      "metadata": {
        "id": "2f6b2b90"
      },
      "source": [
        "## Example code: Scalar - Vector Multiplication\n",
        "I provide this code to help you get familiar with coding in Python."
      ]
    },
    {
      "cell_type": "code",
      "execution_count": 2,
      "id": "fe83b60c",
      "metadata": {
        "id": "fe83b60c"
      },
      "outputs": [],
      "source": [
        "# Note: Python works without specifying types, but specifying the input and output types is recommended when\n",
        "# you work with a cross-stack development team.\n",
        "#\n",
        "# Benefit 1: Enhances the code readability; people eventually need to understand the types when\n",
        "#            trying to understand the code. It's better to explicityly provide the types instead of letting\n",
        "#            people spend their time to guess them.\n",
        "#\n",
        "# Benefit 2: Type information is necessary for compilers and other tools. Explicit information can make your\n",
        "#            implementation easier for tools to understand it.\n",
        "\n",
        "def scalar_vector_product (\n",
        "    input_scalar: torch.double, # Default data type in Pytorch (double == float64)\n",
        "    input_vector: torch.Tensor, # Unlike C++, you can leave the last comma even if it is the last argument\n",
        ") -> torch.Tensor:\n",
        "    # Input validity check\n",
        "    assert(\n",
        "        len(input_vector.size()) == 1 # Is input_vector a 1D tensor?\n",
        "        and input_vector.size()[0] > 0 # Does input_vector contain at least one element?\n",
        "    )\n",
        "\n",
        "    output_vector = input_scalar * input_vector\n",
        "\n",
        "    return output_vector"
      ]
    },
    {
      "cell_type": "markdown",
      "id": "5fb65d54",
      "metadata": {
        "id": "5fb65d54"
      },
      "source": [
        "\n",
        "The following cell is a test to validate the implementation, comparing the results against Pytorch's implementation"
      ]
    },
    {
      "cell_type": "code",
      "execution_count": 3,
      "id": "f46ca0bf",
      "metadata": {
        "id": "f46ca0bf"
      },
      "outputs": [],
      "source": [
        "# Test program: Please do not modify this cell\n",
        "def test_example(number_of_tests: int) -> None:\n",
        "    example_correct = 0\n",
        "    example_incorrect = 0\n",
        "\n",
        "    for test_id in range(number_of_tests):\n",
        "        vector_length = torch.randint(2, 256,[1,])[0]\n",
        "        input_scalar = torch.rand(1)\n",
        "        input_vector = torch.randn(vector_length)\n",
        "\n",
        "        test_output = scalar_vector_product(input_scalar, input_vector)\n",
        "        reference_output = torch.mul(input_vector, input_scalar)\n",
        "\n",
        "        if torch.allclose(test_output, reference_output, atol=1e-6):\n",
        "            example_correct += 1\n",
        "        else:\n",
        "            example_incorrect += 1\n",
        "\n",
        "    return (example_correct, example_incorrect, number_of_tests)\n"
      ]
    },
    {
      "cell_type": "code",
      "execution_count": 4,
      "id": "95186cbc",
      "metadata": {
        "colab": {
          "base_uri": "https://localhost:8080/"
        },
        "id": "95186cbc",
        "outputId": "81fb0d32-85ce-41f6-d20e-b1997880e82e"
      },
      "outputs": [
        {
          "name": "stdout",
          "output_type": "stream",
          "text": [
            "<Test Example Results>\n",
            "- Correct: 10\n",
            "- Incorrect: 0\n",
            "-> Passed 100.0% of tests\n"
          ]
        }
      ],
      "source": [
        "# Run the test\n",
        "test_example_res = test_example(10)\n",
        "test_res_printer(test_example_res, \"Example\")\n"
      ]
    },
    {
      "cell_type": "markdown",
      "id": "d9e584c6",
      "metadata": {
        "id": "d9e584c6"
      },
      "source": [
        "## Problem 1 (20 pts)\n",
        "\n",
        "Implement a matrix multiplication that matches the behavior of \"torch.matmul\" in Pytorch.\n",
        "\n",
        "(reference: https://pytorch.org/docs/stable/generated/torch.matmul.html)\n",
        "\n"
      ]
    },
    {
      "cell_type": "code",
      "execution_count": 5,
      "id": "bfdceabd",
      "metadata": {
        "id": "bfdceabd"
      },
      "outputs": [],
      "source": [
        "def my_matmul (\n",
        "    matrix_A: torch.Tensor, # M x K matrix\n",
        "    matrix_B:torch.Tensor # K x N matrix\n",
        ") -> torch.Tensor:\n",
        "\n",
        "    # raise NotImplementedError # Delete this line when you start implementation\n",
        "\n",
        "    # The following lines extract tensor dimension information\n",
        "    M = matrix_A.size()[0]\n",
        "    K = matrix_B.size()[0]\n",
        "    N = matrix_B.size()[1]\n",
        "\n",
        "    output_matrix = torch.zeros((M,N))\n",
        "\n",
        "    # Implement here\n",
        "    for cid in range(N):\n",
        "        for rid, row in enumerate(matrix_A):\n",
        "          col = matrix_B[:, cid]\n",
        "          assert len(row) == len(col)\n",
        "          temp = 0.0\n",
        "          for id, ele in enumerate(row):\n",
        "              temp += ele * col[id]\n",
        "          output_matrix[rid, cid] = temp\n",
        "    return output_matrix"
      ]
    },
    {
      "cell_type": "code",
      "execution_count": 6,
      "id": "d7df786d",
      "metadata": {
        "id": "d7df786d"
      },
      "outputs": [],
      "source": [
        "# Test program: Please do not modify this cell\n",
        "def test_matmul(num_tests: int = 10):\n",
        "    correct = 0\n",
        "    incorrect = 0\n",
        "\n",
        "    for test_id in range(num_tests):\n",
        "        problem_size = torch.randint(2, 32,[3,])\n",
        "        M = problem_size[0]\n",
        "        N = problem_size[1]\n",
        "        K = problem_size[2]\n",
        "\n",
        "        matrix_A = torch.randn(M,K)\n",
        "        matrix_B = torch.randn(K,N)\n",
        "\n",
        "        reference_matrix_C = torch.matmul(matrix_A, matrix_B)\n",
        "        test_matrix_C = my_matmul(matrix_A, matrix_B)\n",
        "\n",
        "        if torch.allclose(reference_matrix_C, test_matrix_C, atol=1e-6):\n",
        "            correct += 1\n",
        "        else:\n",
        "            incorrect += 1\n",
        "\n",
        "    return (correct, incorrect, num_tests)"
      ]
    },
    {
      "cell_type": "code",
      "execution_count": 8,
      "id": "378fc2e0",
      "metadata": {
        "colab": {
          "base_uri": "https://localhost:8080/"
        },
        "id": "378fc2e0",
        "outputId": "c8ecafca-4a0f-43fb-de54-d0a6ab0d846e"
      },
      "outputs": [
        {
          "name": "stdout",
          "output_type": "stream",
          "text": [
            "<Test Problem 1 Results>\n",
            "- Correct: 10\n",
            "- Incorrect: 0\n",
            "-> Passed 100.0% of tests\n"
          ]
        }
      ],
      "source": [
        "test_res = test_matmul(10)\n",
        "test_res_printer(test_res, \"Problem 1\")"
      ]
    },
    {
      "cell_type": "markdown",
      "id": "c8769b7f",
      "metadata": {
        "id": "c8769b7f"
      },
      "source": [
        "## Problem 2 (50 pts)\n",
        "Implement a conv2d without padding and stride. The results should match the behavior of \"torch.conv2d\" in Pytorch.\n",
        "\n",
        "(reference: https://pytorch.org/docs/stable/generated/torch.nn.Conv2d.html)"
      ]
    },
    {
      "cell_type": "code",
      "execution_count": 12,
      "id": "2ccef5d2",
      "metadata": {
        "id": "2ccef5d2"
      },
      "outputs": [],
      "source": [
        "def my_conv2d(\n",
        "    weight: torch.Tensor, # [K, C, R, S]\n",
        "    input_activation: torch.Tensor, # [1, C, H, W]\n",
        ") -> torch.Tensor: # [1, K, P, Q]\n",
        "\n",
        "    # raise NotImplementedError # Delete this line when you start implementation\n",
        "\n",
        "    K, C, R, S = weight.size()\n",
        "    # K = weight.size()[0]\n",
        "    # C = weight.size()[1]\n",
        "    # ...\n",
        "    B, C_, H, W = input_activation.size()\n",
        "    assert C == C_\n",
        "    P = H - R + 1\n",
        "    Q = W - S + 1\n",
        "\n",
        "    output_activation = torch.zeros([B, K, P, Q])\n",
        "\n",
        "    # Implement here\n",
        "    for b in range(B):\n",
        "        # for each output feature maps\n",
        "        for k in range(K):\n",
        "            # for each output element\n",
        "            for p in range(P):\n",
        "                for q in range(Q):\n",
        "                    output_activation[b, k, p, q] = 0.0\n",
        "                    for c in range(C):\n",
        "                        for r in range(R):\n",
        "                            for s in range(S):\n",
        "                                output_activation[b, k, p, q] += \\\n",
        "                                input_activation[b, c, p + r, q + s] * weight[k, c, r, s]\n",
        "\n",
        "\n",
        "    return output_activation"
      ]
    },
    {
      "cell_type": "code",
      "execution_count": 13,
      "id": "664a2e02",
      "metadata": {
        "id": "664a2e02"
      },
      "outputs": [],
      "source": [
        "# Test program: Please do not modify this cell\n",
        "def test_conv2d(num_tests: int = 3):\n",
        "    correct = 0\n",
        "    incorrect = 0\n",
        "\n",
        "    for test_id in range(num_tests):\n",
        "        activaiton_resolution = torch.randint(7, 32,[2,])\n",
        "\n",
        "        K = int(random.choice(channel_counts))\n",
        "        C = int(random.choice(channel_counts))\n",
        "        H = activaiton_resolution[0]\n",
        "        W = activaiton_resolution[1]\n",
        "        R = int(random.choice(filter_resolution))\n",
        "        S = R\n",
        "\n",
        "        if H < R:\n",
        "            H += R\n",
        "\n",
        "        if W < S:\n",
        "            W += S\n",
        "\n",
        "        # Generate random input activation and weight\n",
        "        weight = torch.randn(K,C,R,S)\n",
        "        input_activation = torch.randn(1,C,H,W)\n",
        "\n",
        "        # Compute the reference output\n",
        "        reference_conv = torch.nn.Conv2d(C, K, (R,S), bias=False)\n",
        "        reference_conv.weight = torch.nn.Parameter(weight)\n",
        "\n",
        "        reference_output = reference_conv(input_activation)\n",
        "\n",
        "        # Compute the test output\n",
        "        test_output = my_conv2d(weight, input_activation)\n",
        "\n",
        "        if torch.allclose(reference_output, test_output,  atol=1e-3):\n",
        "            correct += 1\n",
        "        else:\n",
        "            incorrect += 1\n",
        "        print(\"Finished test run {}\".format(test_id))\n",
        "\n",
        "    return (correct, incorrect, num_tests)"
      ]
    },
    {
      "cell_type": "code",
      "execution_count": 14,
      "id": "40322487",
      "metadata": {
        "colab": {
          "base_uri": "https://localhost:8080/"
        },
        "id": "40322487",
        "outputId": "fab231fa-f2f7-4e0f-fc64-d757561c094d"
      },
      "outputs": [
        {
          "name": "stdout",
          "output_type": "stream",
          "text": [
            "Finished test run 0\n",
            "Finished test run 1\n",
            "Finished test run 2\n",
            "<Test Problem 2 Results>\n",
            "- Correct: 3\n",
            "- Incorrect: 0\n",
            "-> Passed 100.0% of tests\n"
          ]
        }
      ],
      "source": [
        "test_res = test_conv2d(3)\n",
        "test_res_printer(test_res, \"Problem 2\")"
      ]
    },
    {
      "cell_type": "markdown",
      "id": "01ec3e39",
      "metadata": {
        "id": "01ec3e39"
      },
      "source": [
        "## Problem 3 (30 pts)\n",
        "Using the answer of problem 2, implement a strided convolution. We assume the same stride amount in vertical and horizontal (H and W in our diagrams) dimensions"
      ]
    },
    {
      "cell_type": "code",
      "execution_count": 37,
      "id": "d85e20cd",
      "metadata": {
        "id": "d85e20cd"
      },
      "outputs": [],
      "source": [
        "def my_conv2d_with_stride(\n",
        "    weight: torch.Tensor, # [K, C, R, S]\n",
        "    input_activation: torch.Tensor, # [1, C, H, W],\n",
        "    stride: int\n",
        ") -> torch.Tensor: # [1, K, P, Q]\n",
        "\n",
        "    # raise NotImplementedError # Delete this line when you start implementation\n",
        "\n",
        "    K, C, R, S = weight.size()\n",
        "    B, C_, H, W = input_activation.size()\n",
        "    assert C == C_\n",
        "    P = (H - R) // stride + 1\n",
        "    Q = (W - S) // stride + 1\n",
        "    output_activation = torch.zeros([B, K, P, Q])\n",
        "\n",
        "    # print('weight: KCRS=', weight.size())\n",
        "    # print('input: BCHW=', input_activation.size())\n",
        "    # print(stride)\n",
        "    # print('output: BKPQ=', output_activation.size())\n",
        "    # Implemente here\n",
        "    # Hint: output_activation = torch.zeros([1,K,P,Q])\n",
        "\n",
        "    # Implement here\n",
        "    for b in range(B):\n",
        "        # for each output feature maps\n",
        "        for k in range(K):\n",
        "            # for each output element\n",
        "            for p in range(P):\n",
        "                for q in range(Q):\n",
        "                    output_activation[b, k, p, q] = 0.0;\n",
        "                    for c in range(C):\n",
        "                        for r in range(R):\n",
        "                            for s in range(S):\n",
        "                                output_activation[b, k, p, q] += \\\n",
        "                                input_activation[b, c, p * stride + r, q * stride + s] * weight[k, c, r, s];\n",
        "    return output_activation"
      ]
    },
    {
      "cell_type": "code",
      "execution_count": 38,
      "id": "f162f3f9",
      "metadata": {
        "id": "f162f3f9"
      },
      "outputs": [],
      "source": [
        "# Test program: Please do not modify this cell\n",
        "def test_conv2d_with_stride(num_tests: int = 3):\n",
        "    correct = 0\n",
        "    incorrect = 0\n",
        "\n",
        "    for test_id in range(num_tests):\n",
        "        activaiton_resolution = torch.randint(7, 32,[2,])\n",
        "        stride_amount = int(random.choice(stride_amounts))\n",
        "        K = int(random.choice(channel_counts))\n",
        "        C = int(random.choice(channel_counts))\n",
        "        H = activaiton_resolution[0]\n",
        "        W = activaiton_resolution[1]\n",
        "        R = int(random.choice(filter_resolution))\n",
        "        S = R\n",
        "\n",
        "        if H < R:\n",
        "            H += R\n",
        "\n",
        "        if W < S:\n",
        "            W += S\n",
        "\n",
        "        # Generate random input activation and weight\n",
        "        weight = torch.randn(K,C,R,S)\n",
        "        input_activation = torch.randn(1,C,H,W)\n",
        "\n",
        "        # Compute the reference output\n",
        "        reference_conv = torch.nn.Conv2d(C, K, (R,S), stride = (stride_amount,stride_amount), bias = False)\n",
        "        reference_conv.weight = torch.nn.Parameter(weight)\n",
        "\n",
        "        reference_output = reference_conv(input_activation)\n",
        "        # print('refer: BKPQ=', reference_output.size())\n",
        "\n",
        "        # Compute the test output\n",
        "        test_output = my_conv2d_with_stride(weight, input_activation, stride_amount)\n",
        "\n",
        "        if torch.allclose(reference_output, test_output,  atol=1e-3):\n",
        "            correct += 1\n",
        "        else:\n",
        "            incorrect += 1\n",
        "        print(\"Finished test run {}\".format(test_id))\n",
        "\n",
        "    return (correct, incorrect, num_tests)"
      ]
    },
    {
      "cell_type": "code",
      "execution_count": 39,
      "id": "536affba",
      "metadata": {
        "colab": {
          "base_uri": "https://localhost:8080/"
        },
        "id": "536affba",
        "outputId": "be8452c1-746f-4dbb-bf98-101ee1fca0c7"
      },
      "outputs": [
        {
          "name": "stdout",
          "output_type": "stream",
          "text": [
            "Finished test run 0\n",
            "Finished test run 1\n",
            "Finished test run 2\n",
            "<Test Problem 3 Results>\n",
            "- Correct: 3\n",
            "- Incorrect: 0\n",
            "-> Passed 100.0% of tests\n"
          ]
        }
      ],
      "source": [
        "test_res = test_conv2d_with_stride(3)\n",
        "test_res_printer(test_res, \"Problem 3\")"
      ]
    }
  ],
  "metadata": {
    "colab": {
      "provenance": []
    },
    "kernelspec": {
      "display_name": "Python 3 (ipykernel)",
      "language": "python",
      "name": "python3"
    },
    "language_info": {
      "codemirror_mode": {
        "name": "ipython",
        "version": 3
      },
      "file_extension": ".py",
      "mimetype": "text/x-python",
      "name": "python",
      "nbconvert_exporter": "python",
      "pygments_lexer": "ipython3",
      "version": "3.11.5"
    }
  },
  "nbformat": 4,
  "nbformat_minor": 5
}
